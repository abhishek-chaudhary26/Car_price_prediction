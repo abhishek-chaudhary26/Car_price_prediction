{
 "cells": [
  {
   "cell_type": "markdown",
   "metadata": {},
   "source": [
    "<a href=\"https://www.kaggle.com/code/abhichaudhary00/car-price-randomforest?scriptVersionId=180809280\" target=\"_blank\"><img align=\"left\" alt=\"Kaggle\" title=\"Open in Kaggle\" src=\"https://kaggle.com/static/images/open-in-kaggle.svg\"></a>"
   ]
  },
  {
   "cell_type": "code",
   "execution_count": null,
   "metadata": {
    "_cell_guid": "b1076dfc-b9ad-4769-8c92-a6c4dae69d19",
    "_uuid": "8f2839f25d086af736a60e9eeb907d3b93b6e0e5",
    "execution": {
     "iopub.execute_input": "2024-05-31T18:13:47.024886Z",
     "iopub.status.busy": "2024-05-31T18:13:47.023848Z",
     "iopub.status.idle": "2024-05-31T18:13:49.444486Z",
     "shell.execute_reply": "2024-05-31T18:13:49.443243Z",
     "shell.execute_reply.started": "2024-05-31T18:13:47.024846Z"
    },
    "trusted": true
   },
   "outputs": [
    {
     "ename": "",
     "evalue": "",
     "output_type": "error",
     "traceback": [
      "\u001b[1;31mFailed to start the Kernel 'Python 3.10.12'. \n",
      "\u001b[1;31mView Jupyter <a href='command:jupyter.viewOutput'>log</a> for further details. fetch is not defined"
     ]
    }
   ],
   "source": [
    "import pandas as pd\n",
    "import seaborn as sn\n",
    "from datetime import date\n",
    "from sklearn.ensemble import RandomForestRegressor\n",
    "from sklearn.metrics import r2_score , mean_squared_error\n",
    "from sklearn.preprocessing import LabelEncoder\n",
    "from sklearn.model_selection import train_test_split\n",
    "import warnings\n",
    "warnings.filterwarnings('ignore')\n"
   ]
  },
  {
   "cell_type": "code",
   "execution_count": null,
   "metadata": {
    "execution": {
     "iopub.execute_input": "2024-05-31T18:13:49.447468Z",
     "iopub.status.busy": "2024-05-31T18:13:49.446853Z",
     "iopub.status.idle": "2024-05-31T18:13:49.588164Z",
     "shell.execute_reply": "2024-05-31T18:13:49.586938Z",
     "shell.execute_reply.started": "2024-05-31T18:13:49.447423Z"
    },
    "trusted": true
   },
   "outputs": [],
   "source": [
    "df = pd.read_csv(\"/kaggle/input/car-price-prediction-challenge/car_price_prediction.csv\")"
   ]
  },
  {
   "cell_type": "code",
   "execution_count": null,
   "metadata": {
    "execution": {
     "iopub.execute_input": "2024-05-31T18:13:49.590068Z",
     "iopub.status.busy": "2024-05-31T18:13:49.58964Z",
     "iopub.status.idle": "2024-05-31T18:13:49.652462Z",
     "shell.execute_reply": "2024-05-31T18:13:49.651344Z",
     "shell.execute_reply.started": "2024-05-31T18:13:49.59003Z"
    },
    "trusted": true
   },
   "outputs": [],
   "source": [
    "df.info()"
   ]
  },
  {
   "cell_type": "code",
   "execution_count": null,
   "metadata": {
    "execution": {
     "iopub.execute_input": "2024-05-31T18:13:49.655728Z",
     "iopub.status.busy": "2024-05-31T18:13:49.655302Z",
     "iopub.status.idle": "2024-05-31T18:13:49.683091Z",
     "shell.execute_reply": "2024-05-31T18:13:49.682128Z",
     "shell.execute_reply.started": "2024-05-31T18:13:49.655683Z"
    },
    "trusted": true
   },
   "outputs": [],
   "source": [
    "df.head()"
   ]
  },
  {
   "cell_type": "code",
   "execution_count": null,
   "metadata": {
    "execution": {
     "iopub.execute_input": "2024-05-31T18:13:49.684551Z",
     "iopub.status.busy": "2024-05-31T18:13:49.684264Z",
     "iopub.status.idle": "2024-05-31T18:13:49.693351Z",
     "shell.execute_reply": "2024-05-31T18:13:49.692312Z",
     "shell.execute_reply.started": "2024-05-31T18:13:49.684526Z"
    },
    "trusted": true
   },
   "outputs": [],
   "source": [
    "df.shape"
   ]
  },
  {
   "cell_type": "code",
   "execution_count": null,
   "metadata": {
    "execution": {
     "iopub.execute_input": "2024-05-31T18:13:49.695182Z",
     "iopub.status.busy": "2024-05-31T18:13:49.694761Z",
     "iopub.status.idle": "2024-05-31T18:13:49.735166Z",
     "shell.execute_reply": "2024-05-31T18:13:49.734083Z",
     "shell.execute_reply.started": "2024-05-31T18:13:49.695128Z"
    },
    "trusted": true
   },
   "outputs": [],
   "source": [
    "df.duplicated().sum()"
   ]
  },
  {
   "cell_type": "code",
   "execution_count": null,
   "metadata": {
    "execution": {
     "iopub.execute_input": "2024-05-31T18:13:49.736829Z",
     "iopub.status.busy": "2024-05-31T18:13:49.736504Z",
     "iopub.status.idle": "2024-05-31T18:13:49.777867Z",
     "shell.execute_reply": "2024-05-31T18:13:49.776751Z",
     "shell.execute_reply.started": "2024-05-31T18:13:49.736801Z"
    },
    "trusted": true
   },
   "outputs": [],
   "source": [
    "df.drop_duplicates(inplace = True)"
   ]
  },
  {
   "cell_type": "code",
   "execution_count": null,
   "metadata": {
    "execution": {
     "iopub.execute_input": "2024-05-31T18:13:49.77946Z",
     "iopub.status.busy": "2024-05-31T18:13:49.779104Z",
     "iopub.status.idle": "2024-05-31T18:13:49.817651Z",
     "shell.execute_reply": "2024-05-31T18:13:49.816469Z",
     "shell.execute_reply.started": "2024-05-31T18:13:49.779432Z"
    },
    "trusted": true
   },
   "outputs": [],
   "source": [
    "df.nunique()"
   ]
  },
  {
   "cell_type": "code",
   "execution_count": null,
   "metadata": {
    "execution": {
     "iopub.execute_input": "2024-05-31T18:13:49.819666Z",
     "iopub.status.busy": "2024-05-31T18:13:49.819249Z",
     "iopub.status.idle": "2024-05-31T18:13:49.827229Z",
     "shell.execute_reply": "2024-05-31T18:13:49.825729Z",
     "shell.execute_reply.started": "2024-05-31T18:13:49.819626Z"
    },
    "trusted": true
   },
   "outputs": [],
   "source": [
    "year = date.today().year\n",
    "df['car_age'] = year - df['Prod. year']"
   ]
  },
  {
   "cell_type": "code",
   "execution_count": null,
   "metadata": {
    "execution": {
     "iopub.execute_input": "2024-05-31T18:13:49.831094Z",
     "iopub.status.busy": "2024-05-31T18:13:49.830724Z",
     "iopub.status.idle": "2024-05-31T18:13:49.842391Z",
     "shell.execute_reply": "2024-05-31T18:13:49.841129Z",
     "shell.execute_reply.started": "2024-05-31T18:13:49.831065Z"
    },
    "trusted": true
   },
   "outputs": [],
   "source": [
    "\n",
    "df['Wheel'].unique()"
   ]
  },
  {
   "cell_type": "code",
   "execution_count": null,
   "metadata": {
    "execution": {
     "iopub.execute_input": "2024-05-31T18:13:49.844324Z",
     "iopub.status.busy": "2024-05-31T18:13:49.843863Z",
     "iopub.status.idle": "2024-05-31T18:13:49.856812Z",
     "shell.execute_reply": "2024-05-31T18:13:49.855644Z",
     "shell.execute_reply.started": "2024-05-31T18:13:49.844285Z"
    },
    "trusted": true
   },
   "outputs": [],
   "source": [
    "df['Wheel'].replace({'Left wheel': \"Left-hand drive\"} , inplace = True)"
   ]
  },
  {
   "cell_type": "code",
   "execution_count": null,
   "metadata": {
    "execution": {
     "iopub.execute_input": "2024-05-31T18:13:49.85848Z",
     "iopub.status.busy": "2024-05-31T18:13:49.858092Z",
     "iopub.status.idle": "2024-05-31T18:13:49.872265Z",
     "shell.execute_reply": "2024-05-31T18:13:49.871253Z",
     "shell.execute_reply.started": "2024-05-31T18:13:49.858453Z"
    },
    "trusted": true
   },
   "outputs": [],
   "source": [
    "df['Manufacturer'].unique()"
   ]
  },
  {
   "cell_type": "code",
   "execution_count": null,
   "metadata": {
    "execution": {
     "iopub.execute_input": "2024-05-31T18:13:49.874006Z",
     "iopub.status.busy": "2024-05-31T18:13:49.873658Z",
     "iopub.status.idle": "2024-05-31T18:13:49.88594Z",
     "shell.execute_reply": "2024-05-31T18:13:49.88452Z",
     "shell.execute_reply.started": "2024-05-31T18:13:49.873978Z"
    },
    "trusted": true
   },
   "outputs": [],
   "source": [
    "M_count = df[\"Manufacturer\"].value_counts()\n",
    "for Manufacturer , count in M_count.items():\n",
    "    print(f\"{Manufacturer} : {count}\")"
   ]
  },
  {
   "cell_type": "code",
   "execution_count": null,
   "metadata": {
    "execution": {
     "iopub.execute_input": "2024-05-31T18:13:49.887966Z",
     "iopub.status.busy": "2024-05-31T18:13:49.887524Z",
     "iopub.status.idle": "2024-05-31T18:13:49.929387Z",
     "shell.execute_reply": "2024-05-31T18:13:49.928119Z",
     "shell.execute_reply.started": "2024-05-31T18:13:49.887934Z"
    },
    "trusted": true
   },
   "outputs": [],
   "source": [
    "# df[\"Price\"].describe()\n",
    "df.describe()"
   ]
  },
  {
   "cell_type": "code",
   "execution_count": null,
   "metadata": {
    "execution": {
     "iopub.execute_input": "2024-05-31T18:13:49.931328Z",
     "iopub.status.busy": "2024-05-31T18:13:49.93094Z",
     "iopub.status.idle": "2024-05-31T18:13:49.950226Z",
     "shell.execute_reply": "2024-05-31T18:13:49.948889Z",
     "shell.execute_reply.started": "2024-05-31T18:13:49.931298Z"
    },
    "trusted": true
   },
   "outputs": [],
   "source": [
    "df = df.drop([\"ID\" , \"Doors\"] , axis=1)"
   ]
  },
  {
   "cell_type": "code",
   "execution_count": null,
   "metadata": {
    "execution": {
     "iopub.execute_input": "2024-05-31T18:13:49.995102Z",
     "iopub.status.busy": "2024-05-31T18:13:49.994317Z",
     "iopub.status.idle": "2024-05-31T18:13:50.013529Z",
     "shell.execute_reply": "2024-05-31T18:13:50.012101Z",
     "shell.execute_reply.started": "2024-05-31T18:13:49.995067Z"
    },
    "trusted": true
   },
   "outputs": [],
   "source": [
    "df.head(2)"
   ]
  },
  {
   "cell_type": "code",
   "execution_count": null,
   "metadata": {
    "execution": {
     "iopub.execute_input": "2024-05-31T18:13:50.138952Z",
     "iopub.status.busy": "2024-05-31T18:13:50.138576Z",
     "iopub.status.idle": "2024-05-31T18:13:50.153612Z",
     "shell.execute_reply": "2024-05-31T18:13:50.152593Z",
     "shell.execute_reply.started": "2024-05-31T18:13:50.138924Z"
    },
    "trusted": true
   },
   "outputs": [],
   "source": [
    "df[\"Levy\"].replace({ \"-\" : 0 } , inplace = True)\n",
    "df['Levy'] = df['Levy'].astype('int')"
   ]
  },
  {
   "cell_type": "code",
   "execution_count": null,
   "metadata": {
    "execution": {
     "iopub.execute_input": "2024-05-31T18:13:50.22777Z",
     "iopub.status.busy": "2024-05-31T18:13:50.227399Z",
     "iopub.status.idle": "2024-05-31T18:13:50.251484Z",
     "shell.execute_reply": "2024-05-31T18:13:50.250112Z",
     "shell.execute_reply.started": "2024-05-31T18:13:50.227743Z"
    },
    "trusted": true
   },
   "outputs": [],
   "source": [
    "df['Mileage'] = df['Mileage'].astype('str')\n",
    "df['Mileage'] = df['Mileage'].str.replace('km' , \"\")\n",
    "df['Mileage'] = df['Mileage'].astype(\"int\")"
   ]
  },
  {
   "cell_type": "code",
   "execution_count": null,
   "metadata": {
    "execution": {
     "iopub.execute_input": "2024-05-31T18:13:50.383482Z",
     "iopub.status.busy": "2024-05-31T18:13:50.383085Z",
     "iopub.status.idle": "2024-05-31T18:13:50.408384Z",
     "shell.execute_reply": "2024-05-31T18:13:50.407329Z",
     "shell.execute_reply.started": "2024-05-31T18:13:50.383454Z"
    },
    "trusted": true
   },
   "outputs": [],
   "source": [
    "df"
   ]
  },
  {
   "cell_type": "markdown",
   "metadata": {},
   "source": []
  },
  {
   "cell_type": "code",
   "execution_count": null,
   "metadata": {
    "execution": {
     "iopub.execute_input": "2024-05-31T18:13:50.439904Z",
     "iopub.status.busy": "2024-05-31T18:13:50.439494Z",
     "iopub.status.idle": "2024-05-31T18:13:50.4953Z",
     "shell.execute_reply": "2024-05-31T18:13:50.494229Z",
     "shell.execute_reply.started": "2024-05-31T18:13:50.439872Z"
    },
    "trusted": true
   },
   "outputs": [],
   "source": [
    "data_numeric = df.select_dtypes(exclude='object')\n",
    "\n",
    "for col in data_numeric.columns:\n",
    "    q1 = data_numeric[col].quantile(0.25)\n",
    "    q3 = data_numeric[col].quantile(0.75)\n",
    "    iqr = q3 - q1\n",
    "    low = q1 - (1.5 * iqr)\n",
    "    high = q3 + (1.5 * iqr)\n",
    "    outliers = ((data_numeric[col] > high) | (data_numeric[col] < low)).sum()\n",
    "    total = data_numeric.shape[0]\n",
    "    print(f\"Total outliers in {col} are: {outliers} - {round(100 * (outliers / total), 2)}%\")\n",
    "    \n",
    "    if outliers > 0:\n",
    "        df = df.loc[(df[col] <= high) & (df[col] >= low)]\n"
   ]
  },
  {
   "cell_type": "code",
   "execution_count": null,
   "metadata": {
    "execution": {
     "iopub.execute_input": "2024-05-31T18:13:50.549023Z",
     "iopub.status.busy": "2024-05-31T18:13:50.548576Z",
     "iopub.status.idle": "2024-05-31T18:13:50.561002Z",
     "shell.execute_reply": "2024-05-31T18:13:50.559872Z",
     "shell.execute_reply.started": "2024-05-31T18:13:50.548989Z"
    },
    "trusted": true
   },
   "outputs": [],
   "source": [
    "dobject = df.select_dtypes(include = 'object')\n",
    "dnumeric = df.select_dtypes(exclude = 'object')"
   ]
  },
  {
   "cell_type": "code",
   "execution_count": null,
   "metadata": {
    "execution": {
     "iopub.execute_input": "2024-05-31T18:13:50.597673Z",
     "iopub.status.busy": "2024-05-31T18:13:50.597268Z",
     "iopub.status.idle": "2024-05-31T18:13:50.602597Z",
     "shell.execute_reply": "2024-05-31T18:13:50.60143Z",
     "shell.execute_reply.started": "2024-05-31T18:13:50.597641Z"
    },
    "trusted": true
   },
   "outputs": [],
   "source": [
    "la = LabelEncoder()"
   ]
  },
  {
   "cell_type": "code",
   "execution_count": null,
   "metadata": {
    "execution": {
     "iopub.execute_input": "2024-05-31T18:13:50.688904Z",
     "iopub.status.busy": "2024-05-31T18:13:50.687891Z",
     "iopub.status.idle": "2024-05-31T18:13:50.741129Z",
     "shell.execute_reply": "2024-05-31T18:13:50.739965Z",
     "shell.execute_reply.started": "2024-05-31T18:13:50.688863Z"
    },
    "trusted": true
   },
   "outputs": [],
   "source": [
    "label_encoders = {}\n",
    "for col in dobject.select_dtypes(include=['object']).columns:\n",
    "    le = LabelEncoder()\n",
    "    dobject[col] = le.fit_transform(dobject[col])\n",
    "    label_encoders[col] = le"
   ]
  },
  {
   "cell_type": "code",
   "execution_count": null,
   "metadata": {
    "execution": {
     "iopub.execute_input": "2024-05-31T18:13:50.743635Z",
     "iopub.status.busy": "2024-05-31T18:13:50.743185Z",
     "iopub.status.idle": "2024-05-31T18:13:50.760352Z",
     "shell.execute_reply": "2024-05-31T18:13:50.759055Z",
     "shell.execute_reply.started": "2024-05-31T18:13:50.743598Z"
    },
    "trusted": true
   },
   "outputs": [],
   "source": [
    "for i in range(0, dobject.shape[1]):\n",
    "    dobject.iloc[:, i] = la.fit_transform(dobject.iloc[:, i])"
   ]
  },
  {
   "cell_type": "code",
   "execution_count": null,
   "metadata": {
    "execution": {
     "iopub.execute_input": "2024-05-31T18:13:50.788042Z",
     "iopub.status.busy": "2024-05-31T18:13:50.787635Z",
     "iopub.status.idle": "2024-05-31T18:13:50.797001Z",
     "shell.execute_reply": "2024-05-31T18:13:50.795849Z",
     "shell.execute_reply.started": "2024-05-31T18:13:50.788011Z"
    },
    "trusted": true
   },
   "outputs": [],
   "source": [
    "df = pd.concat([dobject, dnumeric], axis=1)"
   ]
  },
  {
   "cell_type": "code",
   "execution_count": null,
   "metadata": {
    "execution": {
     "iopub.execute_input": "2024-05-31T18:13:50.869838Z",
     "iopub.status.busy": "2024-05-31T18:13:50.869411Z",
     "iopub.status.idle": "2024-05-31T18:13:50.876829Z",
     "shell.execute_reply": "2024-05-31T18:13:50.875675Z",
     "shell.execute_reply.started": "2024-05-31T18:13:50.869806Z"
    },
    "trusted": true
   },
   "outputs": [],
   "source": [
    "x = df.drop('Price' , axis = 1)\n",
    "y = df['Price']"
   ]
  },
  {
   "cell_type": "code",
   "execution_count": null,
   "metadata": {
    "execution": {
     "iopub.execute_input": "2024-05-31T18:13:51.009077Z",
     "iopub.status.busy": "2024-05-31T18:13:51.008047Z",
     "iopub.status.idle": "2024-05-31T18:13:51.019073Z",
     "shell.execute_reply": "2024-05-31T18:13:51.017904Z",
     "shell.execute_reply.started": "2024-05-31T18:13:51.009039Z"
    },
    "trusted": true
   },
   "outputs": [],
   "source": [
    "x_train, x_test, y_train,y_test = train_test_split(x, y,test_size = 0.2 , random_state=92)"
   ]
  },
  {
   "cell_type": "code",
   "execution_count": null,
   "metadata": {
    "execution": {
     "iopub.execute_input": "2024-05-31T18:13:51.021795Z",
     "iopub.status.busy": "2024-05-31T18:13:51.021261Z",
     "iopub.status.idle": "2024-05-31T18:13:51.030456Z",
     "shell.execute_reply": "2024-05-31T18:13:51.02899Z",
     "shell.execute_reply.started": "2024-05-31T18:13:51.021751Z"
    },
    "trusted": true
   },
   "outputs": [],
   "source": [
    "model = RandomForestRegressor(n_estimators = 48 , random_state= 72)"
   ]
  },
  {
   "cell_type": "code",
   "execution_count": null,
   "metadata": {
    "execution": {
     "iopub.execute_input": "2024-05-31T18:13:51.080469Z",
     "iopub.status.busy": "2024-05-31T18:13:51.079991Z",
     "iopub.status.idle": "2024-05-31T18:13:53.331884Z",
     "shell.execute_reply": "2024-05-31T18:13:53.330731Z",
     "shell.execute_reply.started": "2024-05-31T18:13:51.080435Z"
    },
    "trusted": true
   },
   "outputs": [],
   "source": [
    "model.fit(x_train , y_train)"
   ]
  },
  {
   "cell_type": "code",
   "execution_count": null,
   "metadata": {
    "execution": {
     "iopub.execute_input": "2024-05-31T18:13:53.334462Z",
     "iopub.status.busy": "2024-05-31T18:13:53.334013Z",
     "iopub.status.idle": "2024-05-31T18:13:53.380387Z",
     "shell.execute_reply": "2024-05-31T18:13:53.379249Z",
     "shell.execute_reply.started": "2024-05-31T18:13:53.334431Z"
    },
    "trusted": true
   },
   "outputs": [],
   "source": [
    "prediction = model.predict(x_test)"
   ]
  },
  {
   "cell_type": "code",
   "execution_count": null,
   "metadata": {
    "execution": {
     "iopub.execute_input": "2024-05-31T18:13:53.381935Z",
     "iopub.status.busy": "2024-05-31T18:13:53.381622Z",
     "iopub.status.idle": "2024-05-31T18:13:53.426203Z",
     "shell.execute_reply": "2024-05-31T18:13:53.425107Z",
     "shell.execute_reply.started": "2024-05-31T18:13:53.381908Z"
    },
    "trusted": true
   },
   "outputs": [],
   "source": [
    "score = model.score (x_test,y_test)"
   ]
  },
  {
   "cell_type": "code",
   "execution_count": null,
   "metadata": {
    "execution": {
     "iopub.execute_input": "2024-05-31T18:13:53.428558Z",
     "iopub.status.busy": "2024-05-31T18:13:53.428219Z",
     "iopub.status.idle": "2024-05-31T18:13:53.436175Z",
     "shell.execute_reply": "2024-05-31T18:13:53.434812Z",
     "shell.execute_reply.started": "2024-05-31T18:13:53.428531Z"
    },
    "trusted": true
   },
   "outputs": [],
   "source": [
    "prediction"
   ]
  },
  {
   "cell_type": "code",
   "execution_count": null,
   "metadata": {
    "execution": {
     "iopub.execute_input": "2024-05-31T18:13:53.437908Z",
     "iopub.status.busy": "2024-05-31T18:13:53.437569Z",
     "iopub.status.idle": "2024-05-31T18:13:53.448433Z",
     "shell.execute_reply": "2024-05-31T18:13:53.447327Z",
     "shell.execute_reply.started": "2024-05-31T18:13:53.437879Z"
    },
    "trusted": true
   },
   "outputs": [],
   "source": [
    "score*100"
   ]
  }
 ],
 "metadata": {
  "kaggle": {
   "accelerator": "none",
   "dataSources": [
    {
     "datasetId": 2322277,
     "sourceId": 3909829,
     "sourceType": "datasetVersion"
    }
   ],
   "dockerImageVersionId": 30698,
   "isGpuEnabled": false,
   "isInternetEnabled": true,
   "language": "python",
   "sourceType": "notebook"
  },
  "kernelspec": {
   "display_name": "Python 3",
   "language": "python",
   "name": "python3"
  },
  "language_info": {
   "codemirror_mode": {
    "name": "ipython",
    "version": 3
   },
   "file_extension": ".py",
   "mimetype": "text/x-python",
   "name": "python",
   "nbconvert_exporter": "python",
   "pygments_lexer": "ipython3",
   "version": "3.10.12"
  }
 },
 "nbformat": 4,
 "nbformat_minor": 4
}
